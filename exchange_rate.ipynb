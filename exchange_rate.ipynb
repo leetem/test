{
  "nbformat": 4,
  "nbformat_minor": 0,
  "metadata": {
    "colab": {
      "provenance": [],
      "authorship_tag": "ABX9TyN7PevAj9nmcBmZvAwDk3wx",
      "include_colab_link": true
    },
    "kernelspec": {
      "name": "python3",
      "display_name": "Python 3"
    },
    "language_info": {
      "name": "python"
    }
  },
  "cells": [
    {
      "cell_type": "markdown",
      "metadata": {
        "id": "view-in-github",
        "colab_type": "text"
      },
      "source": [
        "<a href=\"https://colab.research.google.com/github/leetem/test/blob/main/exchange_rate.ipynb\" target=\"_parent\"><img src=\"https://colab.research.google.com/assets/colab-badge.svg\" alt=\"Open In Colab\"/></a>"
      ]
    },
    {
      "cell_type": "markdown",
      "source": [
        "# 1. Introduction: Get real time exchange rate from internet"
      ],
      "metadata": {
        "id": "ds7oJbf78jb5"
      }
    },
    {
      "cell_type": "code",
      "source": [
        "print (\"This is introduction to Python\")"
      ],
      "metadata": {
        "colab": {
          "base_uri": "https://localhost:8080/"
        },
        "id": "jQufVhcu77CG",
        "outputId": "f450d2c1-1939-47ff-c99d-7cfef66131a7"
      },
      "execution_count": null,
      "outputs": [
        {
          "output_type": "stream",
          "name": "stdout",
          "text": [
            "This is introduction to Python\n"
          ]
        }
      ]
    },
    {
      "cell_type": "markdown",
      "source": [
        "##1.1 Input"
      ],
      "metadata": {
        "id": "KQO4GS1T9AJY"
      }
    },
    {
      "cell_type": "code",
      "source": [
        "myname=input(\"Enter HKD amount: \")"
      ],
      "metadata": {
        "colab": {
          "base_uri": "https://localhost:8080/"
        },
        "id": "Ta597zFQoQXv",
        "outputId": "69e3c5e8-dd8d-4ffb-d08b-957a62f55991"
      },
      "execution_count": null,
      "outputs": [
        {
          "name": "stdout",
          "output_type": "stream",
          "text": [
            "Enter HKD amount: 100\n"
          ]
        }
      ]
    },
    {
      "cell_type": "markdown",
      "source": [
        "##Following suggested by Claude-instant, not as accurate as following v4 rate"
      ],
      "metadata": {
        "id": "qpgbxzGz_l_C"
      }
    },
    {
      "cell_type": "code",
      "source": [
        "import requests\n",
        "\n",
        "# Enter the HKD amount\n",
        "hkd_amount = float(input(\"Enter amount in HKD: \"))\n",
        "\n",
        "# Make API call to get the HKD to CNY conversion rate\n",
        "url = \"https://api.exchangerate.host/convert\"\n",
        "payload = {\n",
        "    'from': 'HKD',\n",
        "    'to': 'CNY',\n",
        "    'amount': 1\n",
        "}\n",
        "response = requests.get(url, params=payload)\n",
        "data = response.json()\n",
        "conversion_rate = float(data[\"result\"])\n",
        "\n",
        "# Calculate the CNY amount\n",
        "cny_amount = hkd_amount * conversion_rate\n",
        "\n",
        "print(f\"{hkd_amount} HKD is equal to {cny_amount} CNY\")"
      ],
      "metadata": {
        "colab": {
          "base_uri": "https://localhost:8080/"
        },
        "id": "ehBNfGgp73Yv",
        "outputId": "e62267cf-a992-457b-8afd-f6e703bef984"
      },
      "execution_count": null,
      "outputs": [
        {
          "output_type": "stream",
          "name": "stdout",
          "text": [
            "Enter amount in HKD: 100\n",
            "100.0 HKD is equal to 91.4187 CNY\n"
          ]
        }
      ]
    },
    {
      "cell_type": "markdown",
      "source": [
        "##Following modified by Assistant\n"
      ],
      "metadata": {
        "id": "HyNCcWid_2cu"
      }
    },
    {
      "cell_type": "code",
      "source": [
        "import requests\n",
        "\n",
        "# Enter the HKD amount\n",
        "hkd_amount = float(input(\"Enter amount in HKD: \"))\n",
        "\n",
        "# Make API call to get the HKD to CNY conversion rate\n",
        "url = \"https://api.exchangerate-api.com/v4/latest/HKD\"\n",
        "response = requests.get(url)\n",
        "data = response.json()\n",
        "conversion_rate = float(data[\"rates\"][\"CNY\"])\n",
        "\n",
        "# Calculate the CNY amount\n",
        "cny_amount = hkd_amount * conversion_rate\n",
        "\n",
        "print(f\"{hkd_amount} HKD is equal to {cny_amount} CNY\")"
      ],
      "metadata": {
        "colab": {
          "base_uri": "https://localhost:8080/"
        },
        "id": "8_srOf_J8Rgo",
        "outputId": "14797fac-4fc1-43bd-8c20-a2c89ea25635"
      },
      "execution_count": null,
      "outputs": [
        {
          "output_type": "stream",
          "name": "stdout",
          "text": [
            "Enter amount in HKD: 100\n",
            "100.0 HKD is equal to 92.0 CNY\n"
          ]
        }
      ]
    },
    {
      "cell_type": "markdown",
      "source": [
        "##Following suggest by Claude 2 100K\n"
      ],
      "metadata": {
        "id": "CNqR6xjqAHSv"
      }
    },
    {
      "cell_type": "code",
      "source": [
        "import requests\n",
        "\n",
        "url = 'https://api.exchangerate-api.com/v4/latest/HKD'\n",
        "\n",
        "response = requests.get(url)\n",
        "data = response.json()\n",
        "\n",
        "hkd_rate = data['rates']['HKD']\n",
        "cny_rate = data['rates']['CNY']\n",
        "\n",
        "hkd_amount = float(input(\"Enter amount in HKD: \"))\n",
        "\n",
        "cny_amount = hkd_amount * cny_rate / hkd_rate\n",
        "\n",
        "print(f\"{hkd_amount} HKD is equal to {cny_amount:.2f} CNY\")"
      ],
      "metadata": {
        "colab": {
          "base_uri": "https://localhost:8080/"
        },
        "id": "A0lB_i639V23",
        "outputId": "c0ef4c57-980b-4e7d-aa8c-3a81280c7f45"
      },
      "execution_count": null,
      "outputs": [
        {
          "output_type": "stream",
          "name": "stdout",
          "text": [
            "Enter amount in HKD: 100\n",
            "100.0 HKD is equal to 92.00 CNY\n"
          ]
        }
      ]
    },
    {
      "cell_type": "code",
      "source": [],
      "metadata": {
        "id": "RsSMDXA2DUBX"
      },
      "execution_count": null,
      "outputs": []
    }
  ]
}